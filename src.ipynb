{
 "cells": [
  {
   "cell_type": "markdown",
   "id": "758569c8",
   "metadata": {},
   "source": [
    "#### Hello, Data!"
   ]
  },
  {
   "cell_type": "code",
   "execution_count": null,
   "id": "67fb8304",
   "metadata": {},
   "outputs": [
    {
     "name": "stdout",
     "output_type": "stream",
     "text": [
      "                              Region               Country  Item Type  \\\n",
      "0  Central America and the Caribbean  Antigua and Barbuda   Baby Food   \n",
      "1  Central America and the Caribbean                Panama     Snacks   \n",
      "2                             Europe        Czech Republic  Beverages   \n",
      "\n",
      "  Sales Channel Order Priority  Order Date   Order ID  Ship Date  Units Sold  \\\n",
      "0        Online              M  12/20/2013  957081544  1/11/2014         552   \n",
      "1       Offline              C    7/5/2010  301644504  7/26/2010        2167   \n",
      "2       Offline              C   9/12/2011  478051030  9/29/2011        4778   \n",
      "\n",
      "   Unit Price  Unit Cost  Total Revenue  Total Cost  Total Profit  \n",
      "0      255.28     159.42      140914.56    87999.84      52914.72  \n",
      "1      152.58      97.44      330640.86   211152.48     119488.38  \n",
      "2       47.45      31.79      226716.10   151892.62      74823.48  \n"
     ]
    }
   ],
   "source": [
    "#Import library\n",
    "import pandas as pd\n",
    "\n",
    "# Load raw CSV\n",
    "df = pd.read_csv(\"./Data/5000 Sales Records.csv\")\n",
    "\n",
    "# Display first 3 rows\n",
    "print(df.head(3))"
   ]
  }
 ],
 "metadata": {
  "kernelspec": {
   "display_name": ".venv",
   "language": "python",
   "name": "python3"
  },
  "language_info": {
   "codemirror_mode": {
    "name": "ipython",
    "version": 3
   },
   "file_extension": ".py",
   "mimetype": "text/x-python",
   "name": "python",
   "nbconvert_exporter": "python",
   "pygments_lexer": "ipython3",
   "version": "3.13.7"
  }
 },
 "nbformat": 4,
 "nbformat_minor": 5
}
