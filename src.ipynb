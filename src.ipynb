{
 "cells": [
  {
   "cell_type": "markdown",
   "id": "758569c8",
   "metadata": {},
   "source": [
    "# Hello, Data!\n",
    "\n",
    "Loading the dataset on a pandas dataframe and printing first 3 rows"
   ]
  },
  {
   "cell_type": "code",
   "execution_count": null,
   "id": "67fb8304",
   "metadata": {},
   "outputs": [
    {
     "name": "stdout",
     "output_type": "stream",
     "text": [
      "                              Region               Country  Item Type  \\\n",
      "0  Central America and the Caribbean  Antigua and Barbuda   Baby Food   \n",
      "1  Central America and the Caribbean                Panama     Snacks   \n",
      "2                             Europe        Czech Republic  Beverages   \n",
      "\n",
      "  Sales Channel Order Priority  Order Date   Order ID  Ship Date  Units Sold  \\\n",
      "0        Online              M  12/20/2013  957081544  1/11/2014         552   \n",
      "1       Offline              C    7/5/2010  301644504  7/26/2010        2167   \n",
      "2       Offline              C   9/12/2011  478051030  9/29/2011        4778   \n",
      "\n",
      "   Unit Price  Unit Cost  Total Revenue  Total Cost  Total Profit  \n",
      "0      255.28     159.42      140914.56    87999.84      52914.72  \n",
      "1      152.58      97.44      330640.86   211152.48     119488.38  \n",
      "2       47.45      31.79      226716.10   151892.62      74823.48  \n"
     ]
    }
   ],
   "source": [
    "#Import library\n",
    "import pandas as pd\n",
    "\n",
    "# Load raw CSV\n",
    "df = pd.read_csv(\"./Data/5000 Sales Records.csv\")\n",
    "\n",
    "# Display first 3 rows\n",
    "print(df.head(3))\n",
    "\n"
   ]
  },
  {
   "cell_type": "markdown",
   "id": "0af38830",
   "metadata": {},
   "source": [
    "# Snippets for dict , namedtuple & set\n",
    "\n",
    "A dictionary is a collection of key-value pairs, accessing elements in dictionary is very fast.\n",
    "Dictionaries cannot have two items with the same key and we can change, add or remove items after the dictionary has been created.\n",
    "\n",
    "A Tuple is ordered and unchangeable, so you can’t change, add or remove items from the tuple after creating it.\n",
    "\n",
    "Set items are unordered, unchangeable, and do not allow duplicate values. Once a set is created, you cannot change its items, but you can remove items and add new items.\n",
    "\n",
    "The usage of it can be based on our purpose. In the examples shown below, I have used dict to change a value, namedtuple to list specific columns and set to list down the unique countries in the column.\n",
    "### Funtion and Data structure\n",
    "Functions and Datastructures are implemented in the Dictionary module"
   ]
  },
  {
   "cell_type": "code",
   "execution_count": null,
   "id": "ece14105",
   "metadata": {},
   "outputs": [
    {
     "name": "stdout",
     "output_type": "stream",
     "text": [
      "{957081544: {'Region': 'Central America and the Caribbean', 'Country': 'Antigua and Barbuda ', 'Item Type': 'Baby Food', 'Sales Channel': 'Online', 'Order Priority': 'M', 'Order Date': '12/20/2013', 'Order ID': 957081544, 'Ship Date': '1/11/2014', 'Units Sold': 552, 'Unit Price': 255.28, 'Unit Cost': 159.42, 'Total Revenue': 140914.56, 'Total Cost': 87999.84, 'Total Profit': 52914.72}, 301644504: {'Region': 'Central America and the Caribbean', 'Country': 'Panama', 'Item Type': 'Snacks', 'Sales Channel': 'Offline', 'Order Priority': 'C', 'Order Date': '7/5/2010', 'Order ID': 301644504, 'Ship Date': '7/26/2010', 'Units Sold': 2167, 'Unit Price': 152.58, 'Unit Cost': 97.44, 'Total Revenue': 330640.86, 'Total Cost': 211152.48, 'Total Profit': 119488.38}, 478051030: {'Region': 'Europe', 'Country': 'Czech Republic', 'Item Type': 'Beverages', 'Sales Channel': 'Offline', 'Order Priority': 'C', 'Order Date': '9/12/2011', 'Order ID': 478051030, 'Ship Date': '9/29/2011', 'Units Sold': 4778, 'Unit Price': 47.45, 'Unit Cost': 31.79, 'Total Revenue': 226716.1, 'Total Cost': 151892.62, 'Total Profit': 74823.48}, 892599952: {'Region': 'Asia', 'Country': 'North Korea', 'Item Type': 'Cereal', 'Sales Channel': 'Offline', 'Order Priority': 'L', 'Order Date': '5/13/2010', 'Order ID': 892599952, 'Ship Date': '6/15/2010', 'Units Sold': 9016, 'Unit Price': 205.7, 'Unit Cost': 117.11, 'Total Revenue': 1854591.2, 'Total Cost': 1055863.76, 'Total Profit': 798727.44}, 571902596: {'Region': 'Asia', 'Country': 'Sri Lanka', 'Item Type': 'Snacks', 'Sales Channel': 'Offline', 'Order Priority': 'C', 'Order Date': '7/20/2015', 'Order ID': 571902596, 'Ship Date': '7/27/2015', 'Units Sold': 7542, 'Unit Price': 152.58, 'Unit Cost': 97.44, 'Total Revenue': 1150758.36, 'Total Cost': 734892.48, 'Total Profit': 415865.88}}\n",
      "                                        957081544  \\\n",
      "Region          Central America and the Caribbean   \n",
      "Country                      Antigua and Barbuda    \n",
      "Item Type                               Baby Food   \n",
      "Sales Channel                              Online   \n",
      "Order Priority                                  M   \n",
      "Order Date                             12/20/2013   \n",
      "Order ID                                957081544   \n",
      "Ship Date                               1/11/2014   \n",
      "Units Sold                                    552   \n",
      "Unit Price                                 255.28   \n",
      "Unit Cost                                  159.42   \n",
      "Total Revenue                           140914.56   \n",
      "Total Cost                               87999.84   \n",
      "Total Profit                             52914.72   \n",
      "\n",
      "                                        301644504       478051030  \\\n",
      "Region          Central America and the Caribbean          Europe   \n",
      "Country                                    Panama  Czech Republic   \n",
      "Item Type                                  Snacks       Beverages   \n",
      "Sales Channel                             Offline         Offline   \n",
      "Order Priority                                  C               C   \n",
      "Order Date                               7/5/2010       9/12/2011   \n",
      "Order ID                                301644504       478051030   \n",
      "Ship Date                               7/26/2010       9/29/2011   \n",
      "Units Sold                                   2167            4778   \n",
      "Unit Price                                 152.58           47.45   \n",
      "Unit Cost                                   97.44           31.79   \n",
      "Total Revenue                           330640.86        226716.1   \n",
      "Total Cost                              211152.48       151892.62   \n",
      "Total Profit                            119488.38        74823.48   \n",
      "\n",
      "                  892599952   571902596  \n",
      "Region                 Asia        Asia  \n",
      "Country         North Korea   Sri Lanka  \n",
      "Item Type            Cereal      Snacks  \n",
      "Sales Channel       Offline     Offline  \n",
      "Order Priority            L           C  \n",
      "Order Date        5/13/2010   7/20/2015  \n",
      "Order ID          892599952   571902596  \n",
      "Ship Date         6/15/2010   7/27/2015  \n",
      "Units Sold             9016        7542  \n",
      "Unit Price            205.7      152.58  \n",
      "Unit Cost            117.11       97.44  \n",
      "Total Revenue     1854591.2  1150758.36  \n",
      "Total Cost       1055863.76   734892.48  \n",
      "Total Profit      798727.44   415865.88  \n",
      "{'Region': 'Central America and the Caribbean', 'Country': 'Panama', 'Item Type': 'Snacks', 'Sales Channel': 'Offline', 'Order Priority': 'C', 'Order Date': '7/5/2010', 'Order ID': 301644504, 'Ship Date': '7/26/2010', 'Units Sold': 2167, 'Unit Price': 152.58, 'Unit Cost': 97.44, 'Total Revenue': 330640.86, 'Total Cost': 211152.48, 'Total Profit': 119488.38}\n",
      "--------------------------------\n",
      "{'Region': 'Americas', 'Country': 'Panama', 'Item Type': 'Snacks', 'Sales Channel': 'Offline', 'Order Priority': 'C', 'Order Date': '7/5/2010', 'Order ID': 301644504, 'Ship Date': '7/26/2010', 'Units Sold': 2167, 'Unit Price': 152.58, 'Unit Cost': 97.44, 'Total Revenue': 330640.86, 'Total Cost': 211152.48, 'Total Profit': 119488.38}\n",
      "--------------------------------\n",
      "After appending Cars: {'Region': 'Americas', 'Country': 'Panama', 'Item Type': 'Snacks', 'Sales Channel': 'Offline', 'Order Priority': 'C', 'Order Date': '7/5/2010', 'Order ID': 301644504, 'Ship Date': '7/26/2010', 'Units Sold': 2167, 'Unit Price': 152.58, 'Unit Cost': 97.44, 'Total Revenue': 330640.86, 'Total Cost': 211152.48, 'Total Profit': 119488.38, 'Cars': ['Volkswagen', 'Mercedes', 'BMW']}\n",
      "--------------------------------\n",
      "Total Units Sold across orders: 24055\n",
      "--------------------------------\n",
      "Dictionary after clearing: {}\n"
     ]
    }
   ],
   "source": [
    "#Create a Dictionary\n",
    "my_dict = {row[\"Order ID\"]: row.to_dict()for _, row in df.head(5).iterrows()}\n",
    "print(my_dict)\n",
    "\n",
    "#Convert Dictionary to DataFrame\n",
    "new_df = pd.DataFrame.from_dict(my_dict)\n",
    "print(new_df)\n",
    "\n",
    "#lookup a value\n",
    "order_id = list(my_dict.keys())[1] #Datastructure \n",
    "print(my_dict[order_id])\n",
    "print(\"--------------------------------\")\n",
    "#Update a value\n",
    "my_dict[order_id][\"Region\"] = \"Americas\"\n",
    "print(my_dict[order_id])\n",
    "print(\"--------------------------------\")\n",
    "\n",
    "# Append a list\n",
    "my_dict[order_id][\"Cars\"] = [\"Volkswagen\", \"Mercedes\", \"BMW\"]\n",
    "print(\"After appending Cars:\", my_dict[order_id])\n",
    "print(\"--------------------------------\")\n",
    "\n",
    "#total units sold across the dictionary\n",
    "units_total = sum(item[\"Units Sold\"] for item in my_dict.values())\n",
    "print(\"Total Units Sold across orders:\", units_total)\n",
    "print(\"--------------------------------\")\n",
    "\n",
    "#Clearing the dictionary\n",
    "my_dict.clear()  # Empties the dictionary\n",
    "print(\"Dictionary after clearing:\", my_dict)"
   ]
  },
  {
   "cell_type": "code",
   "execution_count": 37,
   "id": "90bde583",
   "metadata": {},
   "outputs": [
    {
     "name": "stdout",
     "output_type": "stream",
     "text": [
      "namedtuple_record: Orders(Order_ID=957081544, Country='Antigua and Barbuda ', Total_Revenue=140914.56)\n",
      "namedtuple_record: Orders(Order_ID=301644504, Country='Panama', Total_Revenue=330640.86)\n",
      "namedtuple_record: Orders(Order_ID=478051030, Country='Czech Republic', Total_Revenue=226716.1)\n",
      "namedtuple_record: Orders(Order_ID=892599952, Country='North Korea', Total_Revenue=1854591.2)\n",
      "namedtuple_record: Orders(Order_ID=571902596, Country='Sri Lanka', Total_Revenue=1150758.36)\n"
     ]
    }
   ],
   "source": [
    "from collections import namedtuple\n",
    "\n",
    "# Create a namedtuple\n",
    "Orders = namedtuple(\"Orders\", [\"Order_ID\", \"Country\", \"Total_Revenue\"])\n",
    "\n",
    "# Build a sample record\n",
    "namedtuple_record = [\n",
    "    Orders(\n",
    "        Order_ID=row[\"Order ID\"],  \n",
    "        Country=row[\"Country\"], \n",
    "        Total_Revenue=row[\"Total Revenue\"]\n",
    "    )\n",
    "    for _, row in df.head(5).iterrows()\n",
    "]\n",
    "\n",
    "for row in namedtuple_record:\n",
    "    print(\"namedtuple_record:\", row)\n"
   ]
  },
  {
   "cell_type": "code",
   "execution_count": 58,
   "id": "ceefbf6b",
   "metadata": {},
   "outputs": [
    {
     "name": "stdout",
     "output_type": "stream",
     "text": [
      "Unique countries: {'North Korea', 'Ethiopia', 'Antigua and Barbuda ', 'Panama', 'Morocco', 'Czech Republic', 'Federated States of Micronesia', 'Afghanistan', 'Sri Lanka', 'Bosnia and Herzegovina'}\n",
      "Is 'Canada' in dataset? False\n"
     ]
    }
   ],
   "source": [
    "# Create a set of unique countries from the first 10 rows\n",
    "unique_countries = set(df[\"Country\"].head(10)) \n",
    "\n",
    "print(\"Unique countries:\", unique_countries)\n",
    "\n",
    "# Testing if the country is there in the set\n",
    "print(\"Is 'Canada' in dataset?\", \"Canada\" in unique_countries)\n"
   ]
  }
 ],
 "metadata": {
  "kernelspec": {
   "display_name": ".venv",
   "language": "python",
   "name": "python3"
  },
  "language_info": {
   "codemirror_mode": {
    "name": "ipython",
    "version": 3
   },
   "file_extension": ".py",
   "mimetype": "text/x-python",
   "name": "python",
   "nbconvert_exporter": "python",
   "pygments_lexer": "ipython3",
   "version": "3.13.7"
  }
 },
 "nbformat": 4,
 "nbformat_minor": 5
}
