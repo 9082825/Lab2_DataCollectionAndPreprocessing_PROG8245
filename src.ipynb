{
 "cells": [
  {
   "cell_type": "markdown",
   "id": "758569c8",
   "metadata": {},
   "source": [
    "#### Hello, Data!"
   ]
  },
  {
   "cell_type": "code",
   "execution_count": 2,
   "id": "67fb8304",
   "metadata": {},
   "outputs": [
    {
     "name": "stdout",
     "output_type": "stream",
     "text": [
      "                              Region               Country  Item Type  \\\n",
      "0  Central America and the Caribbean  Antigua and Barbuda   Baby Food   \n",
      "1  Central America and the Caribbean                Panama     Snacks   \n",
      "2                             Europe        Czech Republic  Beverages   \n",
      "\n",
      "  Sales Channel Order Priority  Order Date   Order ID  Ship Date  Units Sold  \\\n",
      "0        Online              M  12/20/2013  957081544  1/11/2014         552   \n",
      "1       Offline              C    7/5/2010  301644504  7/26/2010        2167   \n",
      "2       Offline              C   9/12/2011  478051030  9/29/2011        4778   \n",
      "\n",
      "   Unit Price  Unit Cost  Total Revenue  Total Cost  Total Profit  \n",
      "0      255.28     159.42      140914.56    87999.84      52914.72  \n",
      "1      152.58      97.44      330640.86   211152.48     119488.38  \n",
      "2       47.45      31.79      226716.10   151892.62      74823.48  \n"
     ]
    }
   ],
   "source": [
    "#Import library\n",
    "import pandas as pd\n",
    "\n",
    "# Load raw CSV\n",
    "df = pd.read_csv(\"./Data/5000 Sales Records.csv\")\n",
    "\n",
    "# Display first 3 rows\n",
    "print(df.head(3))"
   ]
  },
  {
   "cell_type": "code",
   "execution_count": 23,
   "id": "ece14105",
   "metadata": {},
   "outputs": [
    {
     "name": "stdout",
     "output_type": "stream",
     "text": [
      "{957081544: {'Region': 'Central America and the Caribbean', 'Country': 'Antigua and Barbuda ', 'Item Type': 'Baby Food', 'Sales Channel': 'Online', 'Order Priority': 'M', 'Order Date': '12/20/2013', 'Order ID': 957081544, 'Ship Date': '1/11/2014', 'Units Sold': 552, 'Unit Price': 255.28, 'Unit Cost': 159.42, 'Total Revenue': 140914.56, 'Total Cost': 87999.84, 'Total Profit': 52914.72}, 301644504: {'Region': 'Central America and the Caribbean', 'Country': 'Panama', 'Item Type': 'Snacks', 'Sales Channel': 'Offline', 'Order Priority': 'C', 'Order Date': '7/5/2010', 'Order ID': 301644504, 'Ship Date': '7/26/2010', 'Units Sold': 2167, 'Unit Price': 152.58, 'Unit Cost': 97.44, 'Total Revenue': 330640.86, 'Total Cost': 211152.48, 'Total Profit': 119488.38}, 478051030: {'Region': 'Europe', 'Country': 'Czech Republic', 'Item Type': 'Beverages', 'Sales Channel': 'Offline', 'Order Priority': 'C', 'Order Date': '9/12/2011', 'Order ID': 478051030, 'Ship Date': '9/29/2011', 'Units Sold': 4778, 'Unit Price': 47.45, 'Unit Cost': 31.79, 'Total Revenue': 226716.1, 'Total Cost': 151892.62, 'Total Profit': 74823.48}, 892599952: {'Region': 'Asia', 'Country': 'North Korea', 'Item Type': 'Cereal', 'Sales Channel': 'Offline', 'Order Priority': 'L', 'Order Date': '5/13/2010', 'Order ID': 892599952, 'Ship Date': '6/15/2010', 'Units Sold': 9016, 'Unit Price': 205.7, 'Unit Cost': 117.11, 'Total Revenue': 1854591.2, 'Total Cost': 1055863.76, 'Total Profit': 798727.44}, 571902596: {'Region': 'Asia', 'Country': 'Sri Lanka', 'Item Type': 'Snacks', 'Sales Channel': 'Offline', 'Order Priority': 'C', 'Order Date': '7/20/2015', 'Order ID': 571902596, 'Ship Date': '7/27/2015', 'Units Sold': 7542, 'Unit Price': 152.58, 'Unit Cost': 97.44, 'Total Revenue': 1150758.36, 'Total Cost': 734892.48, 'Total Profit': 415865.88}}\n",
      "                                        957081544  \\\n",
      "Region          Central America and the Caribbean   \n",
      "Country                      Antigua and Barbuda    \n",
      "Item Type                               Baby Food   \n",
      "Sales Channel                              Online   \n",
      "Order Priority                                  M   \n",
      "Order Date                             12/20/2013   \n",
      "Order ID                                957081544   \n",
      "Ship Date                               1/11/2014   \n",
      "Units Sold                                    552   \n",
      "Unit Price                                 255.28   \n",
      "Unit Cost                                  159.42   \n",
      "Total Revenue                           140914.56   \n",
      "Total Cost                               87999.84   \n",
      "Total Profit                             52914.72   \n",
      "\n",
      "                                        301644504       478051030  \\\n",
      "Region          Central America and the Caribbean          Europe   \n",
      "Country                                    Panama  Czech Republic   \n",
      "Item Type                                  Snacks       Beverages   \n",
      "Sales Channel                             Offline         Offline   \n",
      "Order Priority                                  C               C   \n",
      "Order Date                               7/5/2010       9/12/2011   \n",
      "Order ID                                301644504       478051030   \n",
      "Ship Date                               7/26/2010       9/29/2011   \n",
      "Units Sold                                   2167            4778   \n",
      "Unit Price                                 152.58           47.45   \n",
      "Unit Cost                                   97.44           31.79   \n",
      "Total Revenue                           330640.86        226716.1   \n",
      "Total Cost                              211152.48       151892.62   \n",
      "Total Profit                            119488.38        74823.48   \n",
      "\n",
      "                  892599952   571902596  \n",
      "Region                 Asia        Asia  \n",
      "Country         North Korea   Sri Lanka  \n",
      "Item Type            Cereal      Snacks  \n",
      "Sales Channel       Offline     Offline  \n",
      "Order Priority            L           C  \n",
      "Order Date        5/13/2010   7/20/2015  \n",
      "Order ID          892599952   571902596  \n",
      "Ship Date         6/15/2010   7/27/2015  \n",
      "Units Sold             9016        7542  \n",
      "Unit Price            205.7      152.58  \n",
      "Unit Cost            117.11       97.44  \n",
      "Total Revenue     1854591.2  1150758.36  \n",
      "Total Cost       1055863.76   734892.48  \n",
      "Total Profit      798727.44   415865.88  \n",
      "{'Region': 'Europe', 'Country': 'Czech Republic', 'Item Type': 'Beverages', 'Sales Channel': 'Offline', 'Order Priority': 'C', 'Order Date': '9/12/2011', 'Order ID': 478051030, 'Ship Date': '9/29/2011', 'Units Sold': 4778, 'Unit Price': 47.45, 'Unit Cost': 31.79, 'Total Revenue': 226716.1, 'Total Cost': 151892.62, 'Total Profit': 74823.48}\n"
     ]
    }
   ],
   "source": [
    "#Create a Dictionary\n",
    "my_dict = {row[\"Order ID\"]: row.to_dict()for _, row in df.head(5).iterrows()}\n",
    "print(my_dict)\n",
    "\n",
    "#Convert Dictionary to DataFrame\n",
    "new_df = pd.DataFrame.from_dict(my_dict)\n",
    "print(new_df)\n",
    "\n",
    "#lookup a value\n",
    "order_id = list(my_dict.keys())[2]\n",
    "print(my_dict[order_id])\n"
   ]
  },
  {
   "cell_type": "code",
   "execution_count": null,
   "id": "90bde583",
   "metadata": {},
   "outputs": [
    {
     "ename": "KeyError",
     "evalue": "'Order_ID'",
     "output_type": "error",
     "traceback": [
      "\u001b[31m---------------------------------------------------------------------------\u001b[39m",
      "\u001b[31mKeyError\u001b[39m                                  Traceback (most recent call last)",
      "\u001b[36mFile \u001b[39m\u001b[32mc:\\Conestoga Projects\\PROG8245_MLP\\Lab2_PROG8245\\.venv\\Lib\\site-packages\\pandas\\core\\indexes\\base.py:3812\u001b[39m, in \u001b[36mIndex.get_loc\u001b[39m\u001b[34m(self, key)\u001b[39m\n\u001b[32m   3811\u001b[39m \u001b[38;5;28;01mtry\u001b[39;00m:\n\u001b[32m-> \u001b[39m\u001b[32m3812\u001b[39m     \u001b[38;5;28;01mreturn\u001b[39;00m \u001b[38;5;28;43mself\u001b[39;49m\u001b[43m.\u001b[49m\u001b[43m_engine\u001b[49m\u001b[43m.\u001b[49m\u001b[43mget_loc\u001b[49m\u001b[43m(\u001b[49m\u001b[43mcasted_key\u001b[49m\u001b[43m)\u001b[49m\n\u001b[32m   3813\u001b[39m \u001b[38;5;28;01mexcept\u001b[39;00m \u001b[38;5;167;01mKeyError\u001b[39;00m \u001b[38;5;28;01mas\u001b[39;00m err:\n",
      "\u001b[36mFile \u001b[39m\u001b[32mpandas/_libs/index.pyx:167\u001b[39m, in \u001b[36mpandas._libs.index.IndexEngine.get_loc\u001b[39m\u001b[34m()\u001b[39m\n",
      "\u001b[36mFile \u001b[39m\u001b[32mpandas/_libs/index.pyx:196\u001b[39m, in \u001b[36mpandas._libs.index.IndexEngine.get_loc\u001b[39m\u001b[34m()\u001b[39m\n",
      "\u001b[36mFile \u001b[39m\u001b[32mpandas/_libs/hashtable_class_helper.pxi:7088\u001b[39m, in \u001b[36mpandas._libs.hashtable.PyObjectHashTable.get_item\u001b[39m\u001b[34m()\u001b[39m\n",
      "\u001b[36mFile \u001b[39m\u001b[32mpandas/_libs/hashtable_class_helper.pxi:7096\u001b[39m, in \u001b[36mpandas._libs.hashtable.PyObjectHashTable.get_item\u001b[39m\u001b[34m()\u001b[39m\n",
      "\u001b[31mKeyError\u001b[39m: 'Order_ID'",
      "\nThe above exception was the direct cause of the following exception:\n",
      "\u001b[31mKeyError\u001b[39m                                  Traceback (most recent call last)",
      "\u001b[36mCell\u001b[39m\u001b[36m \u001b[39m\u001b[32mIn[35]\u001b[39m\u001b[32m, line 8\u001b[39m\n\u001b[32m      3\u001b[39m Orders = namedtuple(\u001b[33m\"\u001b[39m\u001b[33mOrders\u001b[39m\u001b[33m\"\u001b[39m,[\u001b[33m\"\u001b[39m\u001b[33mOrder_ID\u001b[39m\u001b[33m\"\u001b[39m,\u001b[33m\"\u001b[39m\u001b[33mCountry\u001b[39m\u001b[33m\"\u001b[39m,\u001b[33m\"\u001b[39m\u001b[33mTotal_Revenue\u001b[39m\u001b[33m\"\u001b[39m])\n\u001b[32m      5\u001b[39m \u001b[38;5;66;03m#Building a sample record\u001b[39;00m\n\u001b[32m      6\u001b[39m namedtuple_record = [\n\u001b[32m      7\u001b[39m     Orders(\n\u001b[32m----> \u001b[39m\u001b[32m8\u001b[39m         Order_ID=\u001b[43mrow\u001b[49m\u001b[43m[\u001b[49m\u001b[33;43m\"\u001b[39;49m\u001b[33;43mOrder_ID\u001b[39;49m\u001b[33;43m\"\u001b[39;49m\u001b[43m]\u001b[49m, \n\u001b[32m      9\u001b[39m         Country=row[\u001b[33m\"\u001b[39m\u001b[33mCountry\u001b[39m\u001b[33m\"\u001b[39m], \n\u001b[32m     10\u001b[39m         Total_Revenue=row[\u001b[33m\"\u001b[39m\u001b[33mTotal_Revenue\u001b[39m\u001b[33m\"\u001b[39m]\n\u001b[32m     11\u001b[39m     ) \u001b[38;5;28;01mfor\u001b[39;00m _, row \u001b[38;5;129;01min\u001b[39;00m df.head(\u001b[32m5\u001b[39m).iterrows()\n\u001b[32m     12\u001b[39m     ]\n\u001b[32m     14\u001b[39m \u001b[38;5;28mprint\u001b[39m(\u001b[33m\"\u001b[39m\u001b[33mnamedtuple_record:\u001b[39m\u001b[33m\"\u001b[39m, namedtuple_record)\n",
      "\u001b[36mFile \u001b[39m\u001b[32mc:\\Conestoga Projects\\PROG8245_MLP\\Lab2_PROG8245\\.venv\\Lib\\site-packages\\pandas\\core\\series.py:1130\u001b[39m, in \u001b[36mSeries.__getitem__\u001b[39m\u001b[34m(self, key)\u001b[39m\n\u001b[32m   1127\u001b[39m     \u001b[38;5;28;01mreturn\u001b[39;00m \u001b[38;5;28mself\u001b[39m._values[key]\n\u001b[32m   1129\u001b[39m \u001b[38;5;28;01melif\u001b[39;00m key_is_scalar:\n\u001b[32m-> \u001b[39m\u001b[32m1130\u001b[39m     \u001b[38;5;28;01mreturn\u001b[39;00m \u001b[38;5;28;43mself\u001b[39;49m\u001b[43m.\u001b[49m\u001b[43m_get_value\u001b[49m\u001b[43m(\u001b[49m\u001b[43mkey\u001b[49m\u001b[43m)\u001b[49m\n\u001b[32m   1132\u001b[39m \u001b[38;5;66;03m# Convert generator to list before going through hashable part\u001b[39;00m\n\u001b[32m   1133\u001b[39m \u001b[38;5;66;03m# (We will iterate through the generator there to check for slices)\u001b[39;00m\n\u001b[32m   1134\u001b[39m \u001b[38;5;28;01mif\u001b[39;00m is_iterator(key):\n",
      "\u001b[36mFile \u001b[39m\u001b[32mc:\\Conestoga Projects\\PROG8245_MLP\\Lab2_PROG8245\\.venv\\Lib\\site-packages\\pandas\\core\\series.py:1246\u001b[39m, in \u001b[36mSeries._get_value\u001b[39m\u001b[34m(self, label, takeable)\u001b[39m\n\u001b[32m   1243\u001b[39m     \u001b[38;5;28;01mreturn\u001b[39;00m \u001b[38;5;28mself\u001b[39m._values[label]\n\u001b[32m   1245\u001b[39m \u001b[38;5;66;03m# Similar to Index.get_value, but we do not fall back to positional\u001b[39;00m\n\u001b[32m-> \u001b[39m\u001b[32m1246\u001b[39m loc = \u001b[38;5;28;43mself\u001b[39;49m\u001b[43m.\u001b[49m\u001b[43mindex\u001b[49m\u001b[43m.\u001b[49m\u001b[43mget_loc\u001b[49m\u001b[43m(\u001b[49m\u001b[43mlabel\u001b[49m\u001b[43m)\u001b[49m\n\u001b[32m   1248\u001b[39m \u001b[38;5;28;01mif\u001b[39;00m is_integer(loc):\n\u001b[32m   1249\u001b[39m     \u001b[38;5;28;01mreturn\u001b[39;00m \u001b[38;5;28mself\u001b[39m._values[loc]\n",
      "\u001b[36mFile \u001b[39m\u001b[32mc:\\Conestoga Projects\\PROG8245_MLP\\Lab2_PROG8245\\.venv\\Lib\\site-packages\\pandas\\core\\indexes\\base.py:3819\u001b[39m, in \u001b[36mIndex.get_loc\u001b[39m\u001b[34m(self, key)\u001b[39m\n\u001b[32m   3814\u001b[39m     \u001b[38;5;28;01mif\u001b[39;00m \u001b[38;5;28misinstance\u001b[39m(casted_key, \u001b[38;5;28mslice\u001b[39m) \u001b[38;5;129;01mor\u001b[39;00m (\n\u001b[32m   3815\u001b[39m         \u001b[38;5;28misinstance\u001b[39m(casted_key, abc.Iterable)\n\u001b[32m   3816\u001b[39m         \u001b[38;5;129;01mand\u001b[39;00m \u001b[38;5;28many\u001b[39m(\u001b[38;5;28misinstance\u001b[39m(x, \u001b[38;5;28mslice\u001b[39m) \u001b[38;5;28;01mfor\u001b[39;00m x \u001b[38;5;129;01min\u001b[39;00m casted_key)\n\u001b[32m   3817\u001b[39m     ):\n\u001b[32m   3818\u001b[39m         \u001b[38;5;28;01mraise\u001b[39;00m InvalidIndexError(key)\n\u001b[32m-> \u001b[39m\u001b[32m3819\u001b[39m     \u001b[38;5;28;01mraise\u001b[39;00m \u001b[38;5;167;01mKeyError\u001b[39;00m(key) \u001b[38;5;28;01mfrom\u001b[39;00m\u001b[38;5;250m \u001b[39m\u001b[34;01merr\u001b[39;00m\n\u001b[32m   3820\u001b[39m \u001b[38;5;28;01mexcept\u001b[39;00m \u001b[38;5;167;01mTypeError\u001b[39;00m:\n\u001b[32m   3821\u001b[39m     \u001b[38;5;66;03m# If we have a listlike key, _check_indexing_error will raise\u001b[39;00m\n\u001b[32m   3822\u001b[39m     \u001b[38;5;66;03m#  InvalidIndexError. Otherwise we fall through and re-raise\u001b[39;00m\n\u001b[32m   3823\u001b[39m     \u001b[38;5;66;03m#  the TypeError.\u001b[39;00m\n\u001b[32m   3824\u001b[39m     \u001b[38;5;28mself\u001b[39m._check_indexing_error(key)\n",
      "\u001b[31mKeyError\u001b[39m: 'Order_ID'"
     ]
    }
   ],
   "source": [
    "from collections import namedtuple\n",
    "\n",
    "# Create a namedtuple\n",
    "Orders = namedtuple(\"Orders\", [\"Order_ID\", \"Country\", \"Total_Revenue\"])\n",
    "\n",
    "# Build a sample record\n",
    "namedtuple_record = [\n",
    "    Orders(\n",
    "        Order_ID=row[\"Order ID\"],  \n",
    "        Country=row[\"Country\"], \n",
    "        Total_Revenue=row[\"Total Revenue\"]\n",
    "    )\n",
    "    for _, row in df.head(5).iterrows()\n",
    "]\n",
    "\n",
    "print(\"namedtuple_record:\", namedtuple_record)\n"
   ]
  }
 ],
 "metadata": {
  "kernelspec": {
   "display_name": ".venv",
   "language": "python",
   "name": "python3"
  },
  "language_info": {
   "codemirror_mode": {
    "name": "ipython",
    "version": 3
   },
   "file_extension": ".py",
   "mimetype": "text/x-python",
   "name": "python",
   "nbconvert_exporter": "python",
   "pygments_lexer": "ipython3",
   "version": "3.13.7"
  }
 },
 "nbformat": 4,
 "nbformat_minor": 5
}
