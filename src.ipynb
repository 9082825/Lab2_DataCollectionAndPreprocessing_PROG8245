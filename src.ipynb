{
 "cells": [
  {
   "cell_type": "markdown",
   "id": "758569c8",
   "metadata": {},
   "source": [
    "# Hello, Data!\n",
    "\n",
    "Loading the dataset on a pandas dataframe and printing first 3 rows"
   ]
  },
  {
   "cell_type": "code",
   "execution_count": null,
   "id": "67fb8304",
   "metadata": {},
   "outputs": [
    {
     "name": "stdout",
     "output_type": "stream",
     "text": [
      "                              Region               Country  Item Type  \\\n",
      "0  Central America and the Caribbean  Antigua and Barbuda   Baby Food   \n",
      "1  Central America and the Caribbean                Panama     Snacks   \n",
      "2                             Europe        Czech Republic  Beverages   \n",
      "\n",
      "  Sales Channel Order Priority  Order Date   Order ID  Ship Date  Units Sold  \\\n",
      "0        Online              M  12/20/2013  957081544  1/11/2014         552   \n",
      "1       Offline              C    7/5/2010  301644504  7/26/2010        2167   \n",
      "2       Offline              C   9/12/2011  478051030  9/29/2011        4778   \n",
      "\n",
      "   Unit Price  Unit Cost  Total Revenue  Total Cost  Total Profit  \n",
      "0      255.28     159.42      140914.56    87999.84      52914.72  \n",
      "1      152.58      97.44      330640.86   211152.48     119488.38  \n",
      "2       47.45      31.79      226716.10   151892.62      74823.48  \n"
     ]
    }
   ],
   "source": [
    "#Import library\n",
    "import pandas as pd\n",
    "\n",
    "# Load raw CSV\n",
    "df = pd.read_csv(\"./Data/5000 Sales Records.csv\")\n",
    "\n",
    "# Display first 3 rows\n",
    "print(df.head(3))\n",
    "\n"
   ]
  },
  {
   "cell_type": "markdown",
   "id": "0af38830",
   "metadata": {},
   "source": [
    "# Snippets for dict , namedtuple & set\n",
    "\n",
    "A dictionary is a collection of key-value pairs, accessing elements in dictionary is very fast.\n",
    "Dictionaries cannot have two items with the same key and we can change, add or remove items after the dictionary has been created.\n",
    "\n",
    "A Tuple is ordered and unchangeable, so you can’t change, add or remove items from the tuple after creating it.\n",
    "\n",
    "Set items are unordered, unchangeable, and do not allow duplicate values. Once a set is created, you cannot change its items, but you can remove items and add new items.\n",
    "\n",
    "The usage of it can be based on our purpose. In the examples shown below, I have used dict to change a value, namedtuple to list specific columns and set to list down the unique countries in the column.\n",
    "### Funtion and Data structure\n",
    "Functions and Datastructures are implemented in the Dictionary module"
   ]
  },
  {
   "cell_type": "code",
   "execution_count": null,
   "id": "ece14105",
   "metadata": {},
   "outputs": [
    {
     "name": "stdout",
     "output_type": "stream",
     "text": [
      "{957081544: {'Region': 'Central America and the Caribbean', 'Country': 'Antigua and Barbuda ', 'Item Type': 'Baby Food', 'Sales Channel': 'Online', 'Order Priority': 'M', 'Order Date': '12/20/2013', 'Order ID': 957081544, 'Ship Date': '1/11/2014', 'Units Sold': 552, 'Unit Price': 255.28, 'Unit Cost': 159.42, 'Total Revenue': 140914.56, 'Total Cost': 87999.84, 'Total Profit': 52914.72}, 301644504: {'Region': 'Central America and the Caribbean', 'Country': 'Panama', 'Item Type': 'Snacks', 'Sales Channel': 'Offline', 'Order Priority': 'C', 'Order Date': '7/5/2010', 'Order ID': 301644504, 'Ship Date': '7/26/2010', 'Units Sold': 2167, 'Unit Price': 152.58, 'Unit Cost': 97.44, 'Total Revenue': 330640.86, 'Total Cost': 211152.48, 'Total Profit': 119488.38}, 478051030: {'Region': 'Europe', 'Country': 'Czech Republic', 'Item Type': 'Beverages', 'Sales Channel': 'Offline', 'Order Priority': 'C', 'Order Date': '9/12/2011', 'Order ID': 478051030, 'Ship Date': '9/29/2011', 'Units Sold': 4778, 'Unit Price': 47.45, 'Unit Cost': 31.79, 'Total Revenue': 226716.1, 'Total Cost': 151892.62, 'Total Profit': 74823.48}, 892599952: {'Region': 'Asia', 'Country': 'North Korea', 'Item Type': 'Cereal', 'Sales Channel': 'Offline', 'Order Priority': 'L', 'Order Date': '5/13/2010', 'Order ID': 892599952, 'Ship Date': '6/15/2010', 'Units Sold': 9016, 'Unit Price': 205.7, 'Unit Cost': 117.11, 'Total Revenue': 1854591.2, 'Total Cost': 1055863.76, 'Total Profit': 798727.44}, 571902596: {'Region': 'Asia', 'Country': 'Sri Lanka', 'Item Type': 'Snacks', 'Sales Channel': 'Offline', 'Order Priority': 'C', 'Order Date': '7/20/2015', 'Order ID': 571902596, 'Ship Date': '7/27/2015', 'Units Sold': 7542, 'Unit Price': 152.58, 'Unit Cost': 97.44, 'Total Revenue': 1150758.36, 'Total Cost': 734892.48, 'Total Profit': 415865.88}}\n",
      "                                        957081544  \\\n",
      "Region          Central America and the Caribbean   \n",
      "Country                      Antigua and Barbuda    \n",
      "Item Type                               Baby Food   \n",
      "Sales Channel                              Online   \n",
      "Order Priority                                  M   \n",
      "Order Date                             12/20/2013   \n",
      "Order ID                                957081544   \n",
      "Ship Date                               1/11/2014   \n",
      "Units Sold                                    552   \n",
      "Unit Price                                 255.28   \n",
      "Unit Cost                                  159.42   \n",
      "Total Revenue                           140914.56   \n",
      "Total Cost                               87999.84   \n",
      "Total Profit                             52914.72   \n",
      "\n",
      "                                        301644504       478051030  \\\n",
      "Region          Central America and the Caribbean          Europe   \n",
      "Country                                    Panama  Czech Republic   \n",
      "Item Type                                  Snacks       Beverages   \n",
      "Sales Channel                             Offline         Offline   \n",
      "Order Priority                                  C               C   \n",
      "Order Date                               7/5/2010       9/12/2011   \n",
      "Order ID                                301644504       478051030   \n",
      "Ship Date                               7/26/2010       9/29/2011   \n",
      "Units Sold                                   2167            4778   \n",
      "Unit Price                                 152.58           47.45   \n",
      "Unit Cost                                   97.44           31.79   \n",
      "Total Revenue                           330640.86        226716.1   \n",
      "Total Cost                              211152.48       151892.62   \n",
      "Total Profit                            119488.38        74823.48   \n",
      "\n",
      "                  892599952   571902596  \n",
      "Region                 Asia        Asia  \n",
      "Country         North Korea   Sri Lanka  \n",
      "Item Type            Cereal      Snacks  \n",
      "Sales Channel       Offline     Offline  \n",
      "Order Priority            L           C  \n",
      "Order Date        5/13/2010   7/20/2015  \n",
      "Order ID          892599952   571902596  \n",
      "Ship Date         6/15/2010   7/27/2015  \n",
      "Units Sold             9016        7542  \n",
      "Unit Price            205.7      152.58  \n",
      "Unit Cost            117.11       97.44  \n",
      "Total Revenue     1854591.2  1150758.36  \n",
      "Total Cost       1055863.76   734892.48  \n",
      "Total Profit      798727.44   415865.88  \n",
      "{'Region': 'Central America and the Caribbean', 'Country': 'Panama', 'Item Type': 'Snacks', 'Sales Channel': 'Offline', 'Order Priority': 'C', 'Order Date': '7/5/2010', 'Order ID': 301644504, 'Ship Date': '7/26/2010', 'Units Sold': 2167, 'Unit Price': 152.58, 'Unit Cost': 97.44, 'Total Revenue': 330640.86, 'Total Cost': 211152.48, 'Total Profit': 119488.38}\n",
      "--------------------------------\n",
      "{'Region': 'Americas', 'Country': 'Panama', 'Item Type': 'Snacks', 'Sales Channel': 'Offline', 'Order Priority': 'C', 'Order Date': '7/5/2010', 'Order ID': 301644504, 'Ship Date': '7/26/2010', 'Units Sold': 2167, 'Unit Price': 152.58, 'Unit Cost': 97.44, 'Total Revenue': 330640.86, 'Total Cost': 211152.48, 'Total Profit': 119488.38}\n",
      "--------------------------------\n",
      "After appending Cars: {'Region': 'Americas', 'Country': 'Panama', 'Item Type': 'Snacks', 'Sales Channel': 'Offline', 'Order Priority': 'C', 'Order Date': '7/5/2010', 'Order ID': 301644504, 'Ship Date': '7/26/2010', 'Units Sold': 2167, 'Unit Price': 152.58, 'Unit Cost': 97.44, 'Total Revenue': 330640.86, 'Total Cost': 211152.48, 'Total Profit': 119488.38, 'Cars': ['Volkswagen', 'Mercedes', 'BMW']}\n",
      "--------------------------------\n",
      "Total Units Sold across orders: 24055\n",
      "--------------------------------\n",
      "Dictionary after clearing: {}\n"
     ]
    }
   ],
   "source": [
    "#Create a Dictionary\n",
    "my_dict = {row[\"Order ID\"]: row.to_dict()for _, row in df.head(5).iterrows()}\n",
    "print(my_dict)\n",
    "\n",
    "#Convert Dictionary to DataFrame\n",
    "new_df = pd.DataFrame.from_dict(my_dict)\n",
    "print(new_df)\n",
    "\n",
    "#lookup a value\n",
    "order_id = list(my_dict.keys())[1] #Datastructure \n",
    "print(my_dict[order_id])\n",
    "print(\"--------------------------------\")\n",
    "#Update a value\n",
    "my_dict[order_id][\"Region\"] = \"Americas\"\n",
    "print(my_dict[order_id])\n",
    "print(\"--------------------------------\")\n",
    "\n",
    "# Append a list\n",
    "my_dict[order_id][\"Cars\"] = [\"Volkswagen\", \"Mercedes\", \"BMW\"]\n",
    "print(\"After appending Cars:\", my_dict[order_id])\n",
    "print(\"--------------------------------\")\n",
    "\n",
    "#total units sold across the dictionary\n",
    "units_total = sum(item[\"Units Sold\"] for item in my_dict.values())\n",
    "print(\"Total Units Sold across orders:\", units_total)\n",
    "print(\"--------------------------------\")\n",
    "\n",
    "#Clearing the dictionary\n",
    "my_dict.clear()  # Empties the dictionary\n",
    "print(\"Dictionary after clearing:\", my_dict)"
   ]
  },
  {
   "cell_type": "code",
   "execution_count": 37,
   "id": "90bde583",
   "metadata": {},
   "outputs": [
    {
     "name": "stdout",
     "output_type": "stream",
     "text": [
      "namedtuple_record: Orders(Order_ID=957081544, Country='Antigua and Barbuda ', Total_Revenue=140914.56)\n",
      "namedtuple_record: Orders(Order_ID=301644504, Country='Panama', Total_Revenue=330640.86)\n",
      "namedtuple_record: Orders(Order_ID=478051030, Country='Czech Republic', Total_Revenue=226716.1)\n",
      "namedtuple_record: Orders(Order_ID=892599952, Country='North Korea', Total_Revenue=1854591.2)\n",
      "namedtuple_record: Orders(Order_ID=571902596, Country='Sri Lanka', Total_Revenue=1150758.36)\n"
     ]
    }
   ],
   "source": [
    "from collections import namedtuple\n",
    "\n",
    "# Create a namedtuple\n",
    "Orders = namedtuple(\"Orders\", [\"Order_ID\", \"Country\", \"Total_Revenue\"])\n",
    "\n",
    "# Build a sample record\n",
    "namedtuple_record = [\n",
    "    Orders(\n",
    "        Order_ID=row[\"Order ID\"],  \n",
    "        Country=row[\"Country\"], \n",
    "        Total_Revenue=row[\"Total Revenue\"]\n",
    "    )\n",
    "    for _, row in df.head(5).iterrows()\n",
    "]\n",
    "\n",
    "for row in namedtuple_record:\n",
    "    print(\"namedtuple_record:\", row)\n"
   ]
  },
  {
   "cell_type": "code",
   "execution_count": 58,
   "id": "ceefbf6b",
   "metadata": {},
   "outputs": [
    {
     "name": "stdout",
     "output_type": "stream",
     "text": [
      "Unique countries: {'North Korea', 'Ethiopia', 'Antigua and Barbuda ', 'Panama', 'Morocco', 'Czech Republic', 'Federated States of Micronesia', 'Afghanistan', 'Sri Lanka', 'Bosnia and Herzegovina'}\n",
      "Is 'Canada' in dataset? False\n"
     ]
    }
   ],
   "source": [
    "# Create a set of unique countries from the first 10 rows\n",
    "unique_countries = set(df[\"Country\"].head(10)) \n",
    "\n",
    "print(\"Unique countries:\", unique_countries)\n",
    "\n",
    "# Testing if the country is there in the set\n",
    "print(\"Is 'Canada' in dataset?\", \"Canada\" in unique_countries)\n"
   ]
  },
  {
   "cell_type": "markdown",
   "id": "be204b71",
   "metadata": {},
   "source": [
    "### Quick Profiling"
   ]
  },
  {
   "cell_type": "code",
   "execution_count": 79,
   "id": "1919b6cb",
   "metadata": {},
   "outputs": [
    {
     "name": "stdout",
     "output_type": "stream",
     "text": [
      "Unique Country Count: 185\n",
      "Quick Profiling Results:\n",
      "Min Price: 9.33\n",
      "Mean Price: 265.74556399999994\n",
      "Max Price: 668.27\n"
     ]
    }
   ],
   "source": [
    "import pandas as pd\n",
    "\n",
    "# Load dataset\n",
    "df = pd.read_csv(\"./Data/5000 Sales Records.csv\")\n",
    "\n",
    "# Unique country count (use 'City' if available instead of 'Country')\n",
    "unique_country_count = df[\"Country\"].nunique()\n",
    "\n",
    "# Print Count of unique countries\n",
    "print(f\"Unique Country Count: {unique_country_count}\")\n",
    "\n",
    "# Quick profiling for Min, Mean, Max of 'Unit Price'\n",
    "min_price = df[\"Unit Price\"].min()\n",
    "mean_price = df[\"Unit Price\"].mean()\n",
    "max_price = df[\"Unit Price\"].max()\n",
    "\n",
    "# Print results \n",
    "print(\"Quick Profiling Results:\")\n",
    "print(f\"Min Price: {min_price}\")\n",
    "print(f\"Mean Price: {mean_price}\")\n",
    "print(f\"Max Price: {max_price}\")"
   ]
  },
  {
   "cell_type": "markdown",
   "id": "dbf3d6dd",
   "metadata": {},
   "source": [
    "###spot the grime\n",
    "\n",
    "The dataset I was working on was a clean dataset. Had to make some changes to the dataset and saved it as updated_data.csv\n",
    "I was able to create a grime and spot it. "
   ]
  },
  {
   "cell_type": "code",
   "execution_count": 83,
   "id": "942f6a0e",
   "metadata": {},
   "outputs": [
    {
     "name": "stdout",
     "output_type": "stream",
     "text": [
      "Missing Values per Column:\n",
      "Series([], dtype: int64)\n",
      "Duplicate Records: 0\n",
      " Invalid 'Units Sold' (<= 0):\n",
      "                            Region     Country      Item Type Sales Channel  \\\n",
      "5     Middle East and North Africa     Morocco  Personal Care       Offline   \n",
      "43                            Asia  Kyrgyzstan         Snacks        Online   \n",
      "1666            Sub-Saharan Africa        Togo  Personal Care        Online   \n",
      "\n",
      "     Order Priority Order Date   Order ID   Ship Date  Units Sold  Unit Price  \\\n",
      "5                 L  11/8/2010  412882792  11/22/2010           0       81.73   \n",
      "43                C   8/6/2013  727492606   9/22/2013           0      152.58   \n",
      "1666              H   2/9/2015  218608891   2/10/2015           0       81.73   \n",
      "\n",
      "      Unit Cost  Total Revenue  Total Cost  Total Profit  \n",
      "5         56.67        3923.04     2720.16       1202.88  \n",
      "43        97.44       12816.72     8184.96       4631.76  \n",
      "1666      56.67        6865.32     4760.28       2105.04  \n"
     ]
    }
   ],
   "source": [
    "# Load dataset\n",
    "df = pd.read_csv(\"./Data/updated_data.csv\")\n",
    "# 1. Missing Values\n",
    "missing_values = df.isnull().sum()\n",
    "print(\"Missing Values per Column:\")\n",
    "print(missing_values[missing_values > 0])\n",
    "\n",
    "# 2. Duplicate Records\n",
    "duplicate_count = df.duplicated().sum()\n",
    "print(f\"Duplicate Records: {duplicate_count}\")\n",
    "if duplicate_count > 0:\n",
    "    print(\"Example Duplicates:\")\n",
    "    print(df[df.duplicated()].head())\n",
    "\n",
    "#3 Inconsistent Values (Example: Negative or zero values in 'Units Sold')\n",
    "invalid_units = df[df[\"Units Sold\"] <= 0]\n",
    "print(\" Invalid 'Units Sold' (<= 0):\")\n",
    "print(invalid_units if not invalid_units.empty else \"None Found\")\n"
   ]
  },
  {
   "cell_type": "markdown",
   "id": "a65f9eb5",
   "metadata": {},
   "source": [
    "### Executed Clean funtion\n",
    "Displayed before and after counts"
   ]
  },
  {
   "cell_type": "code",
   "execution_count": 90,
   "id": "91b0fe5d",
   "metadata": {},
   "outputs": [
    {
     "name": "stdout",
     "output_type": "stream",
     "text": [
      "Cleaning Dataset...\n",
      "\n",
      "Before Cleaning:\n",
      "Rows: 5000\n",
      "Invalid 'Units Sold' (<=0): 3\n",
      "After Cleaning:\n",
      "Rows: 4997\n",
      "Invalid 'Units Sold' (<=0): 0\n"
     ]
    }
   ],
   "source": [
    "def clean(df):\n",
    "    print(\"Cleaning Dataset...\\n\")\n",
    "\n",
    "    # BEFORE counts\n",
    "    print(\"Before Cleaning:\")\n",
    "    print(f\"Rows: {len(df)}\")\n",
    "    print(f\"Invalid 'Units Sold' (<=0): {(df['Units Sold'] <= 0).sum()}\")\n",
    "\n",
    "    # Fixes\n",
    "    df = df[df[\"Units Sold\"] > 0]                       # remove invalid Units Sold\n",
    "    df = df[df[\"Unit Price\"] > 0]                       # ensuring price > 0\n",
    "\n",
    "    # AFTER counts\n",
    "    print(\"After Cleaning:\")\n",
    "    print(f\"Rows: {len(df)}\")\n",
    "    print(f\"Invalid 'Units Sold' (<=0): {(df['Units Sold'] <= 0).sum()}\")\n",
    "\n",
    "    return df\n",
    "\n",
    "\n",
    "# Main\n",
    "df = pd.read_csv(\"./Data/updated_data.csv\")\n",
    "df_cleaned = clean(df)\n"
   ]
  },
  {
   "cell_type": "markdown",
   "id": "befa6fec",
   "metadata": {},
   "source": [
    "### Data Transformation"
   ]
  },
  {
   "cell_type": "code",
   "execution_count": 93,
   "id": "65f06963",
   "metadata": {},
   "outputs": [
    {
     "name": "stdout",
     "output_type": "stream",
     "text": [
      "    Order ID coupon_code      discount\n",
      "0  957081544     WELCOME  others apply\n",
      "1  301644504        None  others apply\n",
      "2  478051030      SAVE30            30\n",
      "3  892599952        None  others apply\n",
      "4  571902596        None  others apply\n"
     ]
    }
   ],
   "source": [
    "import re\n",
    "import numpy as np\n",
    "\n",
    "# Load dataset\n",
    "df = pd.read_csv(\"./Data/updated_data.csv\")\n",
    "\n",
    "# Function to parse coupon codes\n",
    "def parse_coupon(code):\n",
    "    if pd.isna(code):\n",
    "        return \"others apply\"\n",
    "    match = re.search(r\"(\\d+)\", str(code))\n",
    "    if match:\n",
    "        return int(match.group(1))   # numeric discount\n",
    "    else:\n",
    "        return \"others apply\"\n",
    "\n",
    "# Create synthetic coupon code\n",
    "np.random.seed(42)\n",
    "coupons = [\"SAVE10\", \"SAVE20\", \"SAVE30\", \"WELCOME\", None]\n",
    "df[\"coupon_code\"] = np.random.choice(coupons, size=len(df))\n",
    "\n",
    "# Apply parsing on first 5 rows\n",
    "df_head = df.head(5).copy()\n",
    "df_head[\"discount\"] = df_head[\"coupon_code\"].apply(parse_coupon)\n",
    "\n",
    "print(df_head[[\"Order ID\", \"coupon_code\", \"discount\"]])\n"
   ]
  },
  {
   "cell_type": "markdown",
   "id": "49f6cf75",
   "metadata": {},
   "source": [
    "### Feature Engineering\n"
   ]
  },
  {
   "cell_type": "code",
   "execution_count": 95,
   "id": "599a824f",
   "metadata": {},
   "outputs": [
    {
     "name": "stdout",
     "output_type": "stream",
     "text": [
      "    Order ID Order Date  days_since_purchase\n",
      "0  957081544 2013-12-20                 4302\n",
      "1  301644504 2010-07-05                 5566\n",
      "2  478051030 2011-09-12                 5132\n",
      "3  892599952 2010-05-13                 5619\n",
      "4  571902596 2015-07-20                 3725\n"
     ]
    }
   ],
   "source": [
    "from datetime import datetime\n",
    "\n",
    "# Load dataset\n",
    "df = pd.read_csv(\"./Data/5000 Sales Records.csv\")\n",
    "\n",
    "# Convert Order Date column to datetime\n",
    "df[\"Order Date\"] = pd.to_datetime(df[\"Order Date\"])\n",
    "\n",
    "# Calculate days since purchase for each order\n",
    "today = pd.Timestamp(datetime.today().date())\n",
    "df[\"days_since_purchase\"] = (today - df[\"Order Date\"]).dt.days\n",
    "\n",
    "# Show first 5 rows\n",
    "print(df[[\"Order ID\", \"Order Date\", \"days_since_purchase\"]].head())\n"
   ]
  },
  {
   "cell_type": "markdown",
   "id": "f467bf95",
   "metadata": {},
   "source": [
    "### Mini Aggregation"
   ]
  },
  {
   "cell_type": "code",
   "execution_count": null,
   "id": "bf388a87",
   "metadata": {},
   "outputs": [
    {
     "name": "stdout",
     "output_type": "stream",
     "text": [
      "Revenue per Country (dictionary):\n",
      "{'Afghanistan': 19299698.71, 'Albania': 32224853.869999997, 'Algeria': 23537083.54, 'Andorra': 47756693.17, 'Angola': 29053407.28}\n"
     ]
    }
   ],
   "source": [
    "# Load dataset\n",
    "df = pd.read_csv(\"./Data/5000 Sales Records.csv\")\n",
    "\n",
    "# Group by Country \n",
    "revenue_by_country = df.groupby(\"Country\")[\"Total Revenue\"].sum().to_dict()\n",
    "\n",
    "print(\"Revenue per Country (dictionary):\")\n",
    "print(dict(list(revenue_by_country.items())[:5]))\n"
   ]
  },
  {
   "cell_type": "markdown",
   "id": "16521550",
   "metadata": {},
   "source": [
    "#### Saving Cleaned dataset to Json"
   ]
  },
  {
   "cell_type": "code",
   "execution_count": 98,
   "id": "b8022793",
   "metadata": {},
   "outputs": [
    {
     "name": "stdout",
     "output_type": "stream",
     "text": [
      "Cleaned data saved to cleaned_sales_records.json\n"
     ]
    }
   ],
   "source": [
    "df = pd.read_csv(\"./Data/5000 Sales Records.csv\")\n",
    "\n",
    "# Save cleaned DataFrame to JSON\n",
    "df.to_json(\"./Data/cleaned_sales_records.json\", orient=\"records\", lines=True)\n",
    "\n",
    "print(\"Cleaned data saved to cleaned_sales_records.json\")\n"
   ]
  },
  {
   "cell_type": "markdown",
   "id": "16d13cfb",
   "metadata": {},
   "source": [
    "Functions have helped me with the readability of the code and to structure it into blocks. \n",
    "I dont have to write the code multiple times. \n",
    "It also helped with correcting the errors by isolating it.\n",
    "It helps in organising the code in modules."
   ]
  }
 ],
 "metadata": {
  "kernelspec": {
   "display_name": ".venv",
   "language": "python",
   "name": "python3"
  },
  "language_info": {
   "codemirror_mode": {
    "name": "ipython",
    "version": 3
   },
   "file_extension": ".py",
   "mimetype": "text/x-python",
   "name": "python",
   "nbconvert_exporter": "python",
   "pygments_lexer": "ipython3",
   "version": "3.13.7"
  }
 },
 "nbformat": 4,
 "nbformat_minor": 5
}
